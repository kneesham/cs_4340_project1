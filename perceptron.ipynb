{
 "cells": [
  {
   "cell_type": "code",
   "execution_count": 4,
   "metadata": {},
   "outputs": [],
   "source": [
    "import numpy as np\n",
    "\n",
    "\n",
    "class Perceptron:\n",
    "    def __init__(self, eta=0.01, n_passes=50):\n",
    "        self.lr = eta\n",
    "        self.n_passes = n_passes\n",
    "        \n",
    "        self.weights = None #weight vector of dimension d + 1\n",
    "        self.updated = None #Number of updates of the weight vector(self.weights)\n",
    "        self.n_updates = 0  #t\n",
    "\n",
    "    def pla(self, t_samples, t_labels):\n",
    "        w_vector = np.random.random(size=len(t_samples))\n",
    "        w_vector[0] = 1\n",
    "        \n",
    "        \n",
    "        print(\"Initial random weight vector: \", w_vector)\n",
    "        \n",
    "        for _ in range(0, self.n_passes):\n",
    "            self.updated = False\n",
    "            for j in range(1, len(t_samples)):\n",
    "                if t_labels[j] * np.sum(np.dot(w_vector, t_samples)) <= 0:\n",
    "#                     print(\"less than zero: \", np.sum(1.0*self.lr * t_labels[j] * t_samples[j]))\n",
    "                    \n",
    "                    w_vector = w_vector + np.sum(self.lr * t_labels[j] * t_samples[j])\n",
    "                    self.updated = True\n",
    "                    self.n_updates += 1\n",
    "#                 else:\n",
    "#                     print(\"NOT less than zero: \", np.sum(self.lr * t_labels[j] * t_samples[j]))\n",
    "\n",
    "\n",
    "            if self.updated == False:\n",
    "                print(\" did not update. \")\n",
    "                break\n",
    "            \n",
    "        print(\"Weight vector is: \", w_vector)\n",
    "        \n",
    "        if self.updated == False:\n",
    "            print(\"First solution found!\")\n",
    "        else:\n",
    "            print(\"no solution found or first solution found - but not verified - inthe very last pass\")\n",
    "\n",
    "\n"
   ]
  },
  {
   "cell_type": "code",
   "execution_count": 79,
   "metadata": {},
   "outputs": [],
   "source": [
    "# p = Perceptron()\n",
    "# p.pla([0,3, 4], [-1,1,1])"
   ]
  },
  {
   "cell_type": "code",
   "execution_count": null,
   "metadata": {},
   "outputs": [],
   "source": []
  },
  {
   "cell_type": "code",
   "execution_count": null,
   "metadata": {},
   "outputs": [],
   "source": []
  },
  {
   "cell_type": "code",
   "execution_count": null,
   "metadata": {},
   "outputs": [],
   "source": []
  }
 ],
 "metadata": {
  "kernelspec": {
   "display_name": "Python 3",
   "language": "python",
   "name": "python3"
  },
  "language_info": {
   "codemirror_mode": {
    "name": "ipython",
    "version": 3
   },
   "file_extension": ".py",
   "mimetype": "text/x-python",
   "name": "python",
   "nbconvert_exporter": "python",
   "pygments_lexer": "ipython3",
   "version": "3.8.3"
  }
 },
 "nbformat": 4,
 "nbformat_minor": 4
}
